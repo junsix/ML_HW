{
 "cells": [
  {
   "cell_type": "markdown",
   "metadata": {},
   "source": [
    "# Exercise 2: Perceptron"
   ]
  },
  {
   "cell_type": "code",
   "execution_count": null,
   "metadata": {
    "collapsed": true,
    "scrolled": true
   },
   "outputs": [],
   "source": [
    "import pandas\n",
    "import numpy as np\n",
    "import scipy.optimize\n",
    "import matplotlib.pyplot as plt\n",
    "import math\n",
    "\n",
    "from utils import plotData\n",
    "from YourAnswer import perceptron, perceptron_cost, perceptron_rule\n",
    "from YourAnswer import sigmoid, logistic_regression_cost, logistic_regression_gradient, logistic_regression_predict\n",
    "%matplotlib inline"
   ]
  },
  {
   "cell_type": "code",
   "execution_count": null,
   "metadata": {},
   "outputs": [],
   "source": [
    "data1 = pandas.read_csv(\"ex2data1.txt\", header=None, names=['test1', 'test2', 'accepted'])\n",
    "data1.head()"
   ]
  },
  {
   "cell_type": "markdown",
   "metadata": {},
   "source": [
    "## Part 1: Plotting \n",
    "  We start the exercise by first plotting the data to understand the \n",
    "  the problem we are working with."
   ]
  },
  {
   "cell_type": "markdown",
   "metadata": {},
   "source": [
    "Plotting data with + indicating (y = 1) examples and o \n",
    " indicating (y = 0) examples."
   ]
  },
  {
   "cell_type": "code",
   "execution_count": null,
   "metadata": {},
   "outputs": [],
   "source": [
    "ax = plotData(data1)\n",
    "ax.set_ylim([20, 110])\n",
    "ax.legend(['Admitted', 'Not admitted'], loc='best')\n",
    "ax.grid(True)\n",
    "ax.set_xlabel('Exam 1 score')\n",
    "ax.set_ylabel('Exam 2 score')"
   ]
  },
  {
   "cell_type": "code",
   "execution_count": null,
   "metadata": {},
   "outputs": [],
   "source": [
    "X = data1[['test1', 'test2']].values\n",
    "y = data1.accepted.values\n",
    "print(X.shape)\n",
    "X = np.insert(X, 0, np.ones(len(X)), 1)\n",
    "print(X.shape)"
   ]
  },
  {
   "cell_type": "markdown",
   "metadata": {},
   "source": [
    "## Part 2: Compute Cost and Gradient"
   ]
  },
  {
   "cell_type": "markdown",
   "metadata": {},
   "source": [
    "  In this part of the exercise, you will implement the cost and gradient\n",
    "  for perceptron. You need to complete the code in \n",
    "  the function `perceptron`, `cost`, `perceptron_rule` <br><br>\n",
    "  Before you start with the actual cost function, recall that the perceptron is defined as:<br><br>\n",
    "  <center>$h_{\\pmb{\\theta}}(\\mathbf{x})$ = 1 if $\\pmb{\\theta}^T\\mathbf{\\widetilde{x}}$ > 0<br></center>\n",
    "  <center>$h_{\\pmb{\\theta}}(\\mathbf{x})$ = 0 otherwise </center>\n",
    " "
   ]
  },
  {
   "cell_type": "markdown",
   "metadata": {},
   "source": [
    "Now you will implement the cost function and update rule for perceptron. Complete the code in perceptron_cost and perceptron_rule to return the cost and gradient<br><br>\n",
    "Recall that the cost function in perceptron is<br><br>\n",
    "<center>$J(\\pmb\\theta)=-\\frac{1}{n}\\sum\\limits_{i=1}^n \\:(y^{(i)}-h_{\\pmb\\theta}(\\mathbf x^{(i)}))(\\pmb\\theta^T\\widetilde{\\mathbf x}^{(i)})$</center><br>\n",
    "and the gradient of perceptron is a vector of the same length as θ where the jth element (for j = 0,1,...,d) is defined as follows:<br><br>\n",
    "\n",
    "<center>$\\frac{\\partial J(\\pmb\\theta)}{\\partial \\pmb\\theta} = -\\frac{1}{n}\\sum\\limits_{i=1}^n \\:({y}^{(i)}-{h}_{\\pmb\\theta}({\\mathbf x}^{(i)}))\\widetilde{\\mathbf x}^{(i)}$</center><br><br>\n",
    "Note that while this gradient looks identical to the linear regression gra- dient, the formula is actually different because linear and logistic regression have different definitions of hθ(x).<br><br>"
   ]
  },
  {
   "cell_type": "markdown",
   "metadata": {},
   "source": [
    "### To do:\n",
    "- Implement `perceptron`, `perceptron_cost`, `perceptron_rule` in `YourAnswer.py` file."
   ]
  },
  {
   "cell_type": "code",
   "execution_count": 5,
   "metadata": {},
   "outputs": [
    {
     "name": "stdout",
     "output_type": "stream",
     "text": [
      "[-400.    5.    1.]\n",
      "(3,)\n"
     ]
    }
   ],
   "source": [
    "# Initialzing theta, you should consider the input dimensions in practice\n",
    "initial_theta = np.array([-400., 5., 1.])\n",
    "print(initial_theta)\n",
    "print(initial_theta.shape)"
   ]
  },
  {
   "cell_type": "markdown",
   "metadata": {},
   "source": [
    "The cost at initial theta (zeros) should be about `10.37`."
   ]
  },
  {
   "cell_type": "code",
   "execution_count": 6,
   "metadata": {
    "scrolled": false
   },
   "outputs": [
    {
     "data": {
      "text/plain": [
       "0"
      ]
     },
     "execution_count": 6,
     "metadata": {},
     "output_type": "execute_result"
    }
   ],
   "source": [
    "perceptron_cost(X, y, initial_theta)"
   ]
  },
  {
   "cell_type": "markdown",
   "metadata": {},
   "source": [
    "The gradient at initial theta should be `[-0.1, -3.98, -9.69]`."
   ]
  },
  {
   "cell_type": "code",
   "execution_count": 7,
   "metadata": {},
   "outputs": [
    {
     "data": {
      "text/plain": [
       "array([0., 0., 0.])"
      ]
     },
     "execution_count": 7,
     "metadata": {},
     "output_type": "execute_result"
    }
   ],
   "source": [
    "perceptron_rule(X, y, initial_theta)"
   ]
  },
  {
   "cell_type": "markdown",
   "metadata": {},
   "source": [
    "Update theta iteratively by using perceptron update rule"
   ]
  },
  {
   "cell_type": "code",
   "execution_count": 8,
   "metadata": {},
   "outputs": [
    {
     "name": "stdout",
     "output_type": "stream",
     "text": [
      "Perceptron cost 0.0000 after iteration 0\n",
      "Converged\n"
     ]
    }
   ],
   "source": [
    "optimal_theta_p = initial_theta\n",
    "n_iter = 10000\n",
    "alpha = 0.03\n",
    "old_cost = np.Inf\n",
    "for i in range(n_iter):\n",
    "    optimal_theta_p = optimal_theta_p - alpha*perceptron_rule(X, y, optimal_theta_p)\n",
    "    cost = perceptron_cost(X, y, optimal_theta_p)\n",
    "    if np.mod(i, 1) == 0:\n",
    "        print ('Perceptron cost {:.4f} after iteration {}'.format(cost, i))\n",
    "    if cost < 0.1 or cost/old_cost > 1:\n",
    "        print ('Converged')\n",
    "        break\n",
    "    old_cost = cost"
   ]
  },
  {
   "cell_type": "code",
   "execution_count": 9,
   "metadata": {
    "scrolled": false
   },
   "outputs": [
    {
     "data": {
      "text/plain": [
       "array([-400.,    5.,    1.])"
      ]
     },
     "execution_count": 9,
     "metadata": {},
     "output_type": "execute_result"
    }
   ],
   "source": [
    "optimal_theta_p"
   ]
  },
  {
   "cell_type": "code",
   "execution_count": 10,
   "metadata": {
    "scrolled": false
   },
   "outputs": [
    {
     "data": {
      "text/plain": [
       "<Figure size 432x288 with 0 Axes>"
      ]
     },
     "metadata": {},
     "output_type": "display_data"
    },
    {
     "data": {
      "image/png": "[encoded data removed]",
      "text/plain": [
       "<Figure size 1440x720 with 1 Axes>"
      ]
     },
     "metadata": {},
     "output_type": "display_data"
    }
   ],
   "source": [
    "plt.figure()\n",
    "\n",
    "ax = plotData(data1)\n",
    "x_plot = np.array([np.max(X[:, 1]), np.min(X[:,1])])\n",
    "y_plot = (-optimal_theta_p[0] - optimal_theta_p[1]*x_plot) / (optimal_theta_p[2])\n",
    "plt_1 = ax.plot(x_plot, y_plot, 'k--')\n",
    "y_plot_initial = (-initial_theta[0] - initial_theta[1]*x_plot) / (initial_theta[2])\n",
    "plt_2 = ax.plot(x_plot, y_plot_initial, 'k:')\n",
    "ax.set_ylim([20, 110])\n",
    "ax.legend(['Final: ${:.2f} + {:.2f} x_1 + {:.2f} x_2 = 0$'.format(*list(optimal_theta_p)), \n",
    "           'Initial: ${:.2} + {:.2} x_1 + {:.2} x_2 = 0$'.format(*list(initial_theta))], \n",
    "          loc='best')\n",
    "ax.set_xlabel('Exam 1 score')\n",
    "ax.set_ylabel('Exam 2 score')\n",
    "ax.grid(True)\n",
    "plt.title('Training data')\n",
    "\n",
    "plt.show()"
   ]
  },
  {
   "cell_type": "markdown",
   "metadata": {},
   "source": [
    "# Exercise 3: Logistic Regression"
   ]
  },
  {
   "cell_type": "markdown",
   "metadata": {},
   "source": [
    "## Part 1: Compute Cost and Gradient \n",
    "  In this part of the exercise, you will implement the cost and gradient\n",
    "  for logistic regression. You need to complete the code in \n",
    "  the function `cost`.<br><br>\n",
    "  Before you start with the actual cost function, recall that the logistic regression hypothesis is defined as:<br><br>\n",
    "  <center>$h_{\\pmb\\theta}(\\mathbf x)=g(\\pmb\\theta^T\\widetilde{\\mathbf x})$</center><br><br>\n",
    "  where function g is the sigmoid function. The sigmoid function is defined as:<br><br>\n",
    "  <center>$g(z)=\\frac{1}{1+e^{-z}}$\n",
    "  "
   ]
  },
  {
   "cell_type": "markdown",
   "metadata": {},
   "source": [
    "Now you will implement the cost function and gradient for logistic regression. Complete the code in costFunction.m to return the cost and gradient.<br><br>\n",
    "Recall that the cost function in logistic regression is<br><br>\n",
    "<center>$J(\\pmb\\theta)=-\\frac{1}{n}\\sum\\limits_{i=1}^n \\:[y^{(i)}\\log(h_{\\pmb\\theta}(\\mathbf x^{(i)})+(1-y^{(i)})\\log(1-h_{\\pmb \\theta}(\\mathbf x^{(i)})]$</center><br><br>\n",
    "\n",
    "and the gradient of the cost is a vector of the same length as θ where the jth element (for j = 0,1,...,d) is defined as follows:<br><br>\n",
    "\n",
    "<center>$\\frac{\\partial J(\\pmb\\theta)}{\\partial \\theta} = -\\frac{1}{n}\\sum\\limits_{i=1}^n \\:({y}^{(i)}-{h}_{\\pmb \\theta}({\\mathbf x}^{(i)}))\\widetilde{\\mathbf x}^{(i)}$</center><br><br>\n",
    "Note that while this gradient looks identical to the linear regression gra- dient, the formula is actually different because linear and logistic regression have different definitions of hθ(x).<br><br>"
   ]
  },
  {
   "cell_type": "markdown",
   "metadata": {},
   "source": [
    "### To do:\n",
    "- Implement `sigmoid`, `logistic_regression_cost`, `logistic_regression_gradient` in `YourAnswer.py` file."
   ]
  },
  {
   "cell_type": "code",
   "execution_count": 11,
   "metadata": {
    "collapsed": true
   },
   "outputs": [],
   "source": [
    "# Not a recommended way of initialzing theta, random initialization is used normally.\n",
    "initial_theta = np.array([-0.03,-0.01,0.01])"
   ]
  },
  {
   "cell_type": "markdown",
   "metadata": {},
   "source": [
    "The cost at initial theta (zeros) should be about `0.712`."
   ]
  },
  {
   "cell_type": "code",
   "execution_count": 12,
   "metadata": {
    "scrolled": true
   },
   "outputs": [
    {
     "data": {
      "text/plain": [
       "0"
      ]
     },
     "execution_count": 12,
     "metadata": {},
     "output_type": "execute_result"
    }
   ],
   "source": [
    "logistic_regression_cost(X, y, initial_theta)"
   ]
  },
  {
   "cell_type": "markdown",
   "metadata": {},
   "source": [
    "The gradient at initial theta should be `[-0.10, -13.34, -10.79]`."
   ]
  },
  {
   "cell_type": "code",
   "execution_count": 13,
   "metadata": {},
   "outputs": [
    {
     "data": {
      "text/plain": [
       "array([0., 0., 0.])"
      ]
     },
     "execution_count": 13,
     "metadata": {},
     "output_type": "execute_result"
    }
   ],
   "source": [
    "logistic_regression_gradient(X, y, initial_theta)"
   ]
  },
  {
   "cell_type": "markdown",
   "metadata": {},
   "source": [
    "## Part 2: Optimizing using fminunc\n",
    "  In this exercise, you will use a built-in function (scipy.optimize.fmin_ncg) to find the\n",
    "  optimal parameters theta.\n"
   ]
  },
  {
   "cell_type": "code",
   "execution_count": 14,
   "metadata": {},
   "outputs": [
    {
     "name": "stdout",
     "output_type": "stream",
     "text": [
      "Optimization terminated successfully.\n",
      "         Current function value: 0.000000\n",
      "         Iterations: 1\n",
      "         Function evaluations: 2\n",
      "         Gradient evaluations: 2\n",
      "         Hessian evaluations: 0\n",
      "0.0006871223449707031\n"
     ]
    }
   ],
   "source": [
    "def mycost(t):\n",
    "    return logistic_regression_cost(X, y, t)\n",
    "\n",
    "def mygrad(t):\n",
    "    return logistic_regression_gradient(X, y, t)\n",
    "\n",
    "import time\n",
    "start = time.time()\n",
    "\n",
    "\n",
    "optimal_theta = scipy.optimize.fmin_ncg(mycost,\n",
    "                                        initial_theta,\n",
    "                                        fprime=mygrad)\n",
    "\n",
    "\n",
    "stop = time.time()\n",
    "print(stop - start)\n"
   ]
  },
  {
   "cell_type": "markdown",
   "metadata": {},
   "source": [
    "Value of theta that minimizes the cost function:"
   ]
  },
  {
   "cell_type": "code",
   "execution_count": 15,
   "metadata": {
    "scrolled": true
   },
   "outputs": [
    {
     "data": {
      "text/plain": [
       "array([-0.03, -0.01,  0.01])"
      ]
     },
     "execution_count": 15,
     "metadata": {},
     "output_type": "execute_result"
    }
   ],
   "source": [
    "optimal_theta"
   ]
  },
  {
   "cell_type": "markdown",
   "metadata": {},
   "source": [
    "We plot the decision boundary."
   ]
  },
  {
   "cell_type": "code",
   "execution_count": 16,
   "metadata": {
    "scrolled": true
   },
   "outputs": [
    {
     "data": {
      "text/plain": [
       "<Figure size 432x288 with 0 Axes>"
      ]
     },
     "metadata": {},
     "output_type": "display_data"
    },
    {
     "data": {
      "image/png": "[encoded data removed]",
      "text/plain": [
       "<Figure size 1440x720 with 1 Axes>"
      ]
     },
     "metadata": {},
     "output_type": "display_data"
    }
   ],
   "source": [
    "plt.figure()\n",
    "\n",
    "ax = plotData(data1)\n",
    "x_plot = np.array([np.max(X[:, 1]), np.min(X[:,1])])\n",
    "y_plot = (-optimal_theta[0] - optimal_theta[1]*x_plot) / (optimal_theta[2])\n",
    "plt_1 = ax.plot(x_plot, y_plot, 'k--')\n",
    "y_plot_initial = (-initial_theta[0] - initial_theta[1]*x_plot) / (initial_theta[2])\n",
    "plt_2 = ax.plot(x_plot, y_plot_initial, 'k:')\n",
    "ax.set_ylim([20, 110])\n",
    "ax.legend(['Final: ${:.2f} + {:.2f} x_1 + {:.2f} x_2 = 0$'.format(*list(optimal_theta)), \n",
    "           'Initial: ${:.2} + {:.2} x_1 + {:.2} x_2 = 0$'.format(*list(initial_theta))], \n",
    "          loc='best')\n",
    "ax.set_xlabel('Exam 1 score')\n",
    "ax.set_ylabel('Exam 2 score')\n",
    "ax.grid(True)\n",
    "plt.title('Training data')\n",
    "\n",
    "plt.show()\n"
   ]
  },
  {
   "cell_type": "code",
   "execution_count": 17,
   "metadata": {
    "collapsed": true
   },
   "outputs": [],
   "source": [
    "def vis_decision_boundary_contour(X, w, typ='k--'):\n",
    "    lim0 = plt.gca().get_xlim()\n",
    "    lim1 = plt.gca().get_ylim()\n",
    "    x_ = np.linspace(lim0[0], lim0[1], 100)\n",
    "    y_ = np.linspace(lim1[0], lim1[1], 100)\n",
    "    xx, yy = np.meshgrid(x_, y_)\n",
    "    \n",
    "    x_tra_ = np.concatenate([xx.ravel()[:,None], yy.ravel()[:,None]], axis=1)\n",
    "    x_tra_ = np.insert(x_tra_, 0, np.ones(len(x_tra_)), 1)\n",
    "    y = np.dot(x_tra_, w)\n",
    "    pred = sigmoid(y)\n",
    "    levels = np.array([0.0, 0.15, 0.3, 0.4, 0.5, 0.7, 0.85, 1.0])\n",
    "    plt1 = plt.contourf(xx, yy, pred.reshape(xx.shape), cmap=plt.cm.coolwarm, alpha=0.4, levels=levels)\n",
    "    plt.colorbar(plt1)\n",
    "    \n",
    "    plt.gca().set_xlim(lim0)\n",
    "    plt.gca().set_ylim(lim1)\n",
    "    \n",
    "    return plt1"
   ]
  },
  {
   "cell_type": "code",
   "execution_count": 18,
   "metadata": {},
   "outputs": [
    {
     "data": {
      "image/png": "[encoded data removed]",
      "text/plain": [
       "<Figure size 1440x720 with 2 Axes>"
      ]
     },
     "metadata": {},
     "output_type": "display_data"
    }
   ],
   "source": [
    "plotData(data1)\n",
    "plt1 = vis_decision_boundary_contour(X, optimal_theta, 'k--')"
   ]
  },
  {
   "cell_type": "markdown",
   "metadata": {},
   "source": [
    "## Part 3: Predict and Accuracies \n",
    "  After learning the parameters, you'll like to use it to predict the outcomes\n",
    "  on unseen data. In this part, you will use the logistic regression model\n",
    "  to predict the probability that a student with score 45 on exam 1 and \n",
    "  score 85 on exam 2 will be admitted.\n",
    "\n",
    "  Furthermore, you will compute the training and test set accuracies of \n",
    "  our model.\n"
   ]
  },
  {
   "cell_type": "markdown",
   "metadata": {},
   "source": [
    "### To do:\n",
    "- Implement `logistic_regression_predict` in `YourAnswer.py` file."
   ]
  },
  {
   "cell_type": "markdown",
   "metadata": {},
   "source": [
    "Let's predict the admission probably of a student with scores 45 and 85:"
   ]
  },
  {
   "cell_type": "code",
   "execution_count": 19,
   "metadata": {},
   "outputs": [
    {
     "data": {
      "text/plain": [
       "array([0.])"
      ]
     },
     "execution_count": 19,
     "metadata": {},
     "output_type": "execute_result"
    }
   ],
   "source": [
    "logistic_regression_predict(optimal_theta, np.array([[1, 45, 85]]))"
   ]
  },
  {
   "cell_type": "markdown",
   "metadata": {},
   "source": [
    "Training set accuracy:"
   ]
  },
  {
   "cell_type": "code",
   "execution_count": 20,
   "metadata": {
    "scrolled": true
   },
   "outputs": [
    {
     "name": "stdout",
     "output_type": "stream",
     "text": [
      "logistic regression, training accuracy : 0.4\n"
     ]
    }
   ],
   "source": [
    "print ('logistic regression, training accuracy : ' + str(np.mean(logistic_regression_predict(optimal_theta, X) == y)))"
   ]
  },
  {
   "cell_type": "code",
   "execution_count": null,
   "metadata": {
    "collapsed": true
   },
   "outputs": [],
   "source": []
  },
  {
   "cell_type": "code",
   "execution_count": null,
   "metadata": {
    "collapsed": true
   },
   "outputs": [],
   "source": []
  }
 ],
 "metadata": {
  "kernelspec": {
   "display_name": "Python 3",
   "language": "python",
   "name": "python3"
  },
  "language_info": {
   "codemirror_mode": {
    "name": "ipython",
    "version": 3
   },
   "file_extension": ".py",
   "mimetype": "text/x-python",
   "name": "python",
   "nbconvert_exporter": "python",
   "pygments_lexer": "ipython3",
   "version": "3.6.1"
  }
 },
 "nbformat": 4,
 "nbformat_minor": 1
}
